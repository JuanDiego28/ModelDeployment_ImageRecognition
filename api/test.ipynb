{
 "cells": [
  {
   "cell_type": "code",
   "execution_count": 12,
   "metadata": {},
   "outputs": [],
   "source": [
    "import os\n",
    "import settings\n",
    "import json\n"
   ]
  },
  {
   "cell_type": "code",
   "execution_count": 17,
   "metadata": {},
   "outputs": [
    {
     "data": {
      "text/plain": [
       "True"
      ]
     },
     "execution_count": 17,
     "metadata": {},
     "output_type": "execute_result"
    }
   ],
   "source": [
    "os.path.exists(settings.FEEDBACK_FILEPATH)\n",
    "# settings.FEEDBACK_FILEPATH"
   ]
  },
  {
   "cell_type": "code",
   "execution_count": 13,
   "metadata": {},
   "outputs": [
    {
     "data": {
      "text/plain": [
       "'{\"file_name\": \"filename\", \"prediction\": \"golden retriever\", \"score\": 0.9999}'"
      ]
     },
     "execution_count": 13,
     "metadata": {},
     "output_type": "execute_result"
    }
   ],
   "source": [
    "\n",
    "report = {\n",
    "    'file_name':'filename',\n",
    "    'prediction':'golden retriever',\n",
    "    'score':0.9999\n",
    "}\n",
    "json_report =  str(json.dumps(report))\n",
    "json_report"
   ]
  },
  {
   "cell_type": "code",
   "execution_count": 15,
   "metadata": {},
   "outputs": [],
   "source": [
    "if report:\n",
    "    with open(f'{settings.FEEDBACK_FILEPATH}.txt','a') as f:\n",
    "        f.write(json_report)"
   ]
  }
 ],
 "metadata": {
  "kernelspec": {
   "display_name": "sprint03venv",
   "language": "python",
   "name": "python3"
  },
  "language_info": {
   "codemirror_mode": {
    "name": "ipython",
    "version": 3
   },
   "file_extension": ".py",
   "mimetype": "text/x-python",
   "name": "python",
   "nbconvert_exporter": "python",
   "pygments_lexer": "ipython3",
   "version": "3.10.11"
  }
 },
 "nbformat": 4,
 "nbformat_minor": 2
}
